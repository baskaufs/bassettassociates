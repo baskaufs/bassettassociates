{
 "cells": [
  {
   "cell_type": "code",
   "execution_count": 1,
   "metadata": {},
   "outputs": [
    {
     "name": "stdout",
     "output_type": "stream",
     "text": [
      "Uploading to s3: zoo_kcz_chimp_ph_00.tif\n",
      "Done uploading to s3: zoo_kcz_chimp_ph_00.tif\n",
      "\n",
      "Uploading to s3: zoo_kcz_chimp_ph_01.tif\n",
      "Done uploading to s3: zoo_kcz_chimp_ph_01.tif\n",
      "\n",
      "done\n"
     ]
    }
   ],
   "source": [
    "import boto3\n",
    "import os\n",
    "\n",
    "subpath = 'zoo/kcz/chimp/'\n",
    "local_path_root_path = '/Users/baskausj/Downloads/bassett_raw_images/' + subpath\n",
    "local_filename = 'zoo_kcz_chimp_sk_01.tif'\n",
    "s3_iiif_bucket_name = 'bassettassociates'\n",
    "s3 = boto3.client('s3')\n",
    "\n",
    "# Loop through all files in the local directory\n",
    "for local_filename in os.listdir(local_path_root_path):\n",
    "    if local_filename == '.DS_Store':\n",
    "        continue\n",
    "    s3_iiif_key = subpath + local_filename\n",
    "    print('Uploading to s3:', local_filename)\n",
    "    s3.upload_file(local_path_root_path + local_filename, s3_iiif_bucket_name, s3_iiif_key)\n",
    "    print('Done uploading to s3:', local_filename)\n",
    "    print()\n",
    "\n",
    "print('done')"
   ]
  }
 ],
 "metadata": {
  "kernelspec": {
   "display_name": "base",
   "language": "python",
   "name": "python3"
  },
  "language_info": {
   "codemirror_mode": {
    "name": "ipython",
    "version": 3
   },
   "file_extension": ".py",
   "mimetype": "text/x-python",
   "name": "python",
   "nbconvert_exporter": "python",
   "pygments_lexer": "ipython3",
   "version": "3.8.5"
  },
  "orig_nbformat": 4
 },
 "nbformat": 4,
 "nbformat_minor": 2
}
